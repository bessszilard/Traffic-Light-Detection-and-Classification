{
  "nbformat": 4,
  "nbformat_minor": 0,
  "metadata": {
    "colab": {
      "name": "Untitled2.ipynb",
      "version": "0.3.2",
      "provenance": []
    },
    "kernelspec": {
      "name": "python3",
      "display_name": "Python 3"
    }
  },
  "cells": [
    {
      "cell_type": "code",
      "metadata": {
        "id": "99T-YSNjq2gm",
        "colab_type": "code",
        "outputId": "72d8c51b-3a65-4afb-b160-fff1e4121ddb",
        "colab": {
          "base_uri": "https://localhost:8080/",
          "height": 243
        }
      },
      "source": [
        "!apt-get update -y\n",
        "# !apt-get -y install build-essential unzip libglib2.0-dev libssl-dev libcurl4-openssl-dev libgirepository1.0-dev asciidoc"
      ],
      "execution_count": 0,
      "outputs": [
        {
          "output_type": "stream",
          "text": [
            "\r0% [Working]\r            \rGet:1 http://security.ubuntu.com/ubuntu bionic-security InRelease [88.7 kB]\n",
            "\r0% [Connecting to archive.ubuntu.com (91.189.88.162)] [1 InRelease 2,586 B/88.7\r0% [Waiting for headers] [Connected to cloud.r-project.org (13.32.80.49)] [Wait\r0% [1 InRelease gpgv 88.7 kB] [Waiting for headers] [Connected to cloud.r-proje\r                                                                               \rIgn:2 https://developer.download.nvidia.com/compute/cuda/repos/ubuntu1804/x86_64  InRelease\n",
            "\r0% [1 InRelease gpgv 88.7 kB] [Waiting for headers] [Waiting for headers] [Wait\r                                                                               \rHit:3 https://cloud.r-project.org/bin/linux/ubuntu bionic-cran35/ InRelease\n",
            "\r0% [1 InRelease gpgv 88.7 kB] [Waiting for headers] [Waiting for headers] [Wait\r                                                                               \rHit:4 http://archive.ubuntu.com/ubuntu bionic InRelease\n",
            "\r0% [1 InRelease gpgv 88.7 kB] [Waiting for headers] [Waiting for headers] [Wait\r                                                                               \rHit:5 http://ppa.launchpad.net/graphics-drivers/ppa/ubuntu bionic InRelease\n",
            "\r0% [1 InRelease gpgv 88.7 kB] [Waiting for headers] [Waiting for headers] [Conn\r                                                                               \rIgn:6 https://developer.download.nvidia.com/compute/machine-learning/repos/ubuntu1804/x86_64  InRelease\n",
            "\r0% [1 InRelease gpgv 88.7 kB] [Waiting for headers] [Connecting to ppa.launchpa\r                                                                               \rHit:7 https://developer.download.nvidia.com/compute/cuda/repos/ubuntu1804/x86_64  Release\n",
            "\r0% [1 InRelease gpgv 88.7 kB] [Waiting for headers] [Connecting to ppa.launchpa\r                                                                               \rHit:8 https://developer.download.nvidia.com/compute/machine-learning/repos/ubuntu1804/x86_64  Release\n",
            "\r0% [1 InRelease gpgv 88.7 kB] [Waiting for headers] [Connecting to ppa.launchpa\r                                                                               \rGet:9 http://archive.ubuntu.com/ubuntu bionic-updates InRelease [88.7 kB]\n",
            "\r0% [1 InRelease gpgv 88.7 kB] [9 InRelease 2,602 B/88.7 kB 3%] [Connecting to p\r                                                                               \rHit:10 http://ppa.launchpad.net/marutter/c2d4u3.5/ubuntu bionic InRelease\n",
            "Get:11 http://archive.ubuntu.com/ubuntu bionic-backports InRelease [74.6 kB]\n",
            "Fetched 252 kB in 2s (110 kB/s)\n",
            "Reading package lists... Done\n"
          ],
          "name": "stdout"
        }
      ]
    },
    {
      "cell_type": "code",
      "metadata": {
        "id": "ktYKaWBMq5yq",
        "colab_type": "code",
        "outputId": "af253ef5-b4a3-4e58-c890-417dc9fe220a",
        "colab": {
          "base_uri": "https://localhost:8080/",
          "height": 434
        }
      },
      "source": [
        "!wget https://github.com/megous/megatools/archive/master.zip\n",
        "!unzip master.zip\n",
        "!cd megatools-master/; ./autogen.sh; ./configure; make; make install;"
      ],
      "execution_count": 0,
      "outputs": [
        {
          "output_type": "stream",
          "text": [
            "--2019-07-28 17:43:23--  https://github.com/megous/megatools/archive/master.zip\n",
            "Resolving github.com (github.com)... 140.82.114.3\n",
            "Connecting to github.com (github.com)|140.82.114.3|:443... connected.\n",
            "HTTP request sent, awaiting response... 302 Found\n",
            "Location: https://codeload.github.com/megous/megatools/zip/master [following]\n",
            "--2019-07-28 17:43:24--  https://codeload.github.com/megous/megatools/zip/master\n",
            "Resolving codeload.github.com (codeload.github.com)... 192.30.253.120\n",
            "Connecting to codeload.github.com (codeload.github.com)|192.30.253.120|:443... connected.\n",
            "HTTP request sent, awaiting response... 200 OK\n",
            "Length: unspecified [application/zip]\n",
            "Saving to: ‘master.zip’\n",
            "\n",
            "\rmaster.zip              [<=>                 ]       0  --.-KB/s               \rmaster.zip              [ <=>                ]     573  --.-KB/s    in 0.003s  \n",
            "\n",
            "2019-07-28 17:43:24 (161 KB/s) - ‘master.zip’ saved [573]\n",
            "\n",
            "Archive:  master.zip\n",
            "40262f8994e2fc96e4682551eda961d73b2ac70b\n",
            "   creating: megatools-master/\n",
            "  inflating: megatools-master/README.md  \n",
            "/bin/bash: ./autogen.sh: No such file or directory\n",
            "/bin/bash: ./configure: No such file or directory\n",
            "make: *** No targets specified and no makefile found.  Stop.\n",
            "make: *** No rule to make target 'install'.  Stop.\n"
          ],
          "name": "stdout"
        }
      ]
    },
    {
      "cell_type": "code",
      "metadata": {
        "id": "0e4zi2i7rgns",
        "colab_type": "code",
        "outputId": "e265e8e2-9f15-43a1-8f81-bb516330993d",
        "colab": {
          "base_uri": "https://localhost:8080/",
          "height": 208
        }
      },
      "source": [
        "# !wget https://github.com/megous/megatools/archive/master.zip\n",
        "!git clone https://salsa.debian.org/berto/megatools\n",
        "!ls -all\n",
        "# !unzip master.zip\n",
        "# !cd megatools-master/; ls -all"
      ],
      "execution_count": 0,
      "outputs": [
        {
          "output_type": "stream",
          "text": [
            "fatal: destination path 'megatools' already exists and is not an empty directory.\n",
            "total 36\n",
            "drwxr-xr-x 1 root root 4096 Jul 28 18:02 .\n",
            "drwxr-xr-x 1 root root 4096 Jul 28 17:17 ..\n",
            "drwxr-xr-x 1 root root 4096 Jul 19 16:14 .config\n",
            "-rw-r--r-- 1 root root  573 Jul 28 17:43 master.zip\n",
            "-rw-r--r-- 1 root root  573 Jul 28 17:44 master.zip.1\n",
            "-rw-r--r-- 1 root root  573 Jul 28 17:44 master.zip.2\n",
            "drwxr-xr-x 8 root root 4096 Jul 28 18:02 megatools\n",
            "drwxr-xr-x 2 root root 4096 Jul 28 17:44 megatools-master\n",
            "drwxr-xr-x 1 root root 4096 Jul 19 16:14 sample_data\n"
          ],
          "name": "stdout"
        }
      ]
    },
    {
      "cell_type": "code",
      "metadata": {
        "id": "nSPdKAIBrvzt",
        "colab_type": "code",
        "outputId": "603c1eb8-6499-4195-c25e-7f19a642ed0a",
        "colab": {
          "base_uri": "https://localhost:8080/",
          "height": 521
        }
      },
      "source": [
        "# !cd megatools; ls -all\n",
        "# !cd megatools; ./install-sh;"
      ],
      "execution_count": 0,
      "outputs": [
        {
          "output_type": "stream",
          "text": [
            "total 852\n",
            "drwxr-xr-x 8 root root   4096 Jul 28 18:02 .\n",
            "drwxr-xr-x 1 root root   4096 Jul 28 18:02 ..\n",
            "-rw-r--r-- 1 root root  56475 Jul 28 18:02 aclocal.m4\n",
            "-rwxr-xr-x 1 root root   7333 Jul 28 18:02 compile\n",
            "-rwxr-xr-x 1 root root  42938 Jul 28 18:02 config.guess\n",
            "-rw-r--r-- 1 root root    701 Jul 28 18:02 config.h.in\n",
            "-rwxr-xr-x 1 root root  35987 Jul 28 18:02 config.sub\n",
            "-rwxr-xr-x 1 root root 180643 Jul 28 18:02 configure\n",
            "-rw-r--r-- 1 root root   2080 Jul 28 18:02 configure.ac\n",
            "drwxr-xr-x 3 root root   4096 Jul 28 18:02 contrib\n",
            "drwxr-xr-x 5 root root   4096 Jul 28 18:02 debian\n",
            "-rwxr-xr-x 1 root root  23566 Jul 28 18:02 depcomp\n",
            "drwxr-xr-x 2 root root   4096 Jul 28 18:02 docs\n",
            "drwxr-xr-x 8 root root   4096 Jul 28 18:02 .git\n",
            "-rw-r--r-- 1 root root    675 Jul 28 18:02 HACKING\n",
            "-rw-r--r-- 1 root root  15749 Jul 28 18:02 INSTALL\n",
            "-rwxr-xr-x 1 root root  14675 Jul 28 18:02 install-sh\n",
            "drwxr-xr-x 2 root root   4096 Jul 28 18:02 lib\n",
            "-rw-r--r-- 1 root root  18834 Jul 28 18:02 LICENSE\n",
            "-rw-r--r-- 1 root root 324089 Jul 28 18:02 ltmain.sh\n",
            "-rw-r--r-- 1 root root   2215 Jul 28 18:02 Makefile.am\n",
            "-rw-r--r-- 1 root root  41180 Jul 28 18:02 Makefile.in\n",
            "-rwxr-xr-x 1 root root   6872 Jul 28 18:02 missing\n",
            "-rw-r--r-- 1 root root  14049 Jul 28 18:02 NEWS\n",
            "-rw-r--r-- 1 root root   8266 Jul 28 18:02 README\n",
            "-rw-r--r-- 1 root root    326 Jul 28 18:02 TODO\n",
            "drwxr-xr-x 2 root root   4096 Jul 28 18:02 tools\n",
            "/bin/bash: ./isntall.sh: No such file or directory\n"
          ],
          "name": "stdout"
        }
      ]
    },
    {
      "cell_type": "code",
      "metadata": {
        "id": "c1lAv7Tuv3rq",
        "colab_type": "code",
        "outputId": "6df6b5f5-939d-45f5-801f-5da8877cd61b",
        "colab": {
          "base_uri": "https://localhost:8080/",
          "height": 416
        }
      },
      "source": [
        "!ls -all"
      ],
      "execution_count": 0,
      "outputs": [
        {
          "output_type": "stream",
          "text": [
            "--2019-07-28 18:05:41--  http://ftp.de.debian.org/debian/pool/main/m/megatools/megatools_1.9.98-1_amd64.deb\n",
            "Resolving ftp.de.debian.org (ftp.de.debian.org)... 141.76.2.4\n",
            "Connecting to ftp.de.debian.org (ftp.de.debian.org)|141.76.2.4|:80... connected.\n",
            "HTTP request sent, awaiting response... 200 OK\n",
            "Length: 148874 (145K) [application/x-debian-package]\n",
            "Saving to: ‘megatools_1.9.98-1_amd64.deb.1’\n",
            "\n",
            "\r          megatools   0%[                    ]       0  --.-KB/s               \r         megatools_  31%[=====>              ]  45.12K   201KB/s               \rmegatools_1.9.98-1_ 100%[===================>] 145.38K   431KB/s    in 0.3s    \n",
            "\n",
            "2019-07-28 18:05:42 (431 KB/s) - ‘megatools_1.9.98-1_amd64.deb.1’ saved [148874/148874]\n",
            "\n",
            "total 332\n",
            "drwxr-xr-x 1 root root   4096 Jul 28 18:05 .\n",
            "drwxr-xr-x 1 root root   4096 Jul 28 17:17 ..\n",
            "drwxr-xr-x 1 root root   4096 Jul 19 16:14 .config\n",
            "-rw-r--r-- 1 root root    573 Jul 28 17:43 master.zip\n",
            "-rw-r--r-- 1 root root    573 Jul 28 17:44 master.zip.1\n",
            "-rw-r--r-- 1 root root    573 Jul 28 17:44 master.zip.2\n",
            "drwxr-xr-x 8 root root   4096 Jul 28 18:02 megatools\n",
            "-rw-r--r-- 1 root root 148874 Nov  3  2016 megatools_1.9.98-1_amd64.deb\n",
            "-rw-r--r-- 1 root root 148874 Nov  3  2016 megatools_1.9.98-1_amd64.deb.1\n",
            "drwxr-xr-x 2 root root   4096 Jul 28 17:44 megatools-master\n",
            "drwxr-xr-x 1 root root   4096 Jul 19 16:14 sample_data\n"
          ],
          "name": "stdout"
        }
      ]
    },
    {
      "cell_type": "code",
      "metadata": {
        "id": "EtM_IfONwkYx",
        "colab_type": "code",
        "colab": {}
      },
      "source": [
        "# !wget http://ftp.de.debian.org/debian/pool/main/m/megatools/megatools_1.9.98-1_amd64.deb\n",
        "!apt --fix-broken install\n",
        "# !dpkg -i megatools_1.9.98-1_amd64.deb"
      ],
      "execution_count": 0,
      "outputs": []
    },
    {
      "cell_type": "code",
      "metadata": {
        "id": "1jvXKtmlw7sE",
        "colab_type": "code",
        "outputId": "4e0077cb-8997-48dc-aae3-bc9f49c1a42c",
        "colab": {
          "base_uri": "https://localhost:8080/",
          "height": 121
        }
      },
      "source": [
        "# !wget http://ftp.de.debian.org/debian/pool/main/m/megatools/megatools_1.9.98-1_amd64.deb\n",
        "!dpkg -i megatools_1.9.98-1_amd64.deb"
      ],
      "execution_count": 0,
      "outputs": [
        {
          "output_type": "stream",
          "text": [
            "Selecting previously unselected package megatools.\n",
            "(Reading database ... \r(Reading database ... 5%\r(Reading database ... 10%\r(Reading database ... 15%\r(Reading database ... 20%\r(Reading database ... 25%\r(Reading database ... 30%\r(Reading database ... 35%\r(Reading database ... 40%\r(Reading database ... 45%\r(Reading database ... 50%\r(Reading database ... 55%\r(Reading database ... 60%\r(Reading database ... 65%\r(Reading database ... 70%\r(Reading database ... 75%\r(Reading database ... 80%\r(Reading database ... 85%\r(Reading database ... 90%\r(Reading database ... 95%\r(Reading database ... 100%\r(Reading database ... 151547 files and directories currently installed.)\n",
            "Preparing to unpack megatools_1.9.98-1_amd64.deb ...\n",
            "Unpacking megatools (1.9.98-1) ...\n",
            "Setting up megatools (1.9.98-1) ...\n",
            "Processing triggers for man-db (2.8.3-2ubuntu0.1) ...\n"
          ],
          "name": "stdout"
        }
      ]
    },
    {
      "cell_type": "code",
      "metadata": {
        "id": "_l1AltFZ1Cht",
        "colab_type": "code",
        "outputId": "64d2fd99-cd71-475a-9c54-8da518c68ada",
        "colab": {
          "base_uri": "https://localhost:8080/",
          "height": 34
        }
      },
      "source": [
        "!megadl https://mega.nz/#!SsUVAS4L!kKgPBNNnmdqBSsEwMTjcLVPrXsh3CBPifjeyd0cVaOg"
      ],
      "execution_count": 0,
      "outputs": [
        {
          "output_type": "stream",
          "text": [
            "\u001b[0KDownloaded bosch traffic light dataset.tar.gz\n"
          ],
          "name": "stdout"
        }
      ]
    }
  ]
}